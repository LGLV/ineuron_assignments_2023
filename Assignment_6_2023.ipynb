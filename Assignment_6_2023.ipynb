{
  "nbformat": 4,
  "nbformat_minor": 0,
  "metadata": {
    "colab": {
      "provenance": [],
      "authorship_tag": "ABX9TyPfCTL9Cty2CBmAZ9cK+gH6",
      "include_colab_link": true
    },
    "kernelspec": {
      "name": "python3",
      "display_name": "Python 3"
    },
    "language_info": {
      "name": "python"
    }
  },
  "cells": [
    {
      "cell_type": "markdown",
      "metadata": {
        "id": "view-in-github",
        "colab_type": "text"
      },
      "source": [
        "<a href=\"https://colab.research.google.com/github/LGLV/ineuron_assignments_2023/blob/main/Assignment_6_2023.ipynb\" target=\"_parent\"><img src=\"https://colab.research.google.com/assets/colab-badge.svg\" alt=\"Open In Colab\"/></a>"
      ]
    },
    {
      "cell_type": "markdown",
      "source": [
        "**Q.1. What are keywords in python? Using the keyword library, print all the python keywords.**\n",
        "\n",
        "Definition: Keywords in Python are reserved words that cannot be used as ordinary identifiers. They are used to define the syntax and structure of the Python language."
      ],
      "metadata": {
        "id": "3dQr2s4s_uMB"
      }
    },
    {
      "cell_type": "code",
      "source": [
        "import keyword"
      ],
      "metadata": {
        "id": "O8rUkSZ5_5vm"
      },
      "execution_count": null,
      "outputs": []
    },
    {
      "cell_type": "code",
      "execution_count": null,
      "metadata": {
        "colab": {
          "base_uri": "https://localhost:8080/"
        },
        "id": "p6a5n6uj_h_-",
        "outputId": "5189904f-cf28-43d0-c4ff-e1c38eded47a"
      },
      "outputs": [
        {
          "output_type": "execute_result",
          "data": {
            "text/plain": [
              "['False',\n",
              " 'None',\n",
              " 'True',\n",
              " 'and',\n",
              " 'as',\n",
              " 'assert',\n",
              " 'async',\n",
              " 'await',\n",
              " 'break',\n",
              " 'class',\n",
              " 'continue',\n",
              " 'def',\n",
              " 'del',\n",
              " 'elif',\n",
              " 'else',\n",
              " 'except',\n",
              " 'finally',\n",
              " 'for',\n",
              " 'from',\n",
              " 'global',\n",
              " 'if',\n",
              " 'import',\n",
              " 'in',\n",
              " 'is',\n",
              " 'lambda',\n",
              " 'nonlocal',\n",
              " 'not',\n",
              " 'or',\n",
              " 'pass',\n",
              " 'raise',\n",
              " 'return',\n",
              " 'try',\n",
              " 'while',\n",
              " 'with',\n",
              " 'yield']"
            ]
          },
          "metadata": {},
          "execution_count": 7
        }
      ],
      "source": [
        "keyword.kwlist"
      ]
    },
    {
      "cell_type": "markdown",
      "source": [
        "**Q.2. What are the rules to create variables in python?**\n",
        "\n",
        "\n",
        "* Definition: In Python, a variable is a named location used to store data in memory.\n",
        "* You can not use keywords as variables.\n",
        "* Declaration and Assignment: Variables are declared by writing the variable name and assigning it a value using the equals sign (=). For example:"
      ],
      "metadata": {
        "id": "JMwkIVghAbE1"
      }
    },
    {
      "cell_type": "code",
      "source": [
        "name = 'Luis'\n",
        "age = 48"
      ],
      "metadata": {
        "id": "BQcQkOvGBOj2"
      },
      "execution_count": null,
      "outputs": []
    },
    {
      "cell_type": "markdown",
      "source": [
        "**Q.3. What are the standards and conventions followed for the nomenclature of variables in\n",
        "python to improve code readability and maintainability?**\n",
        "\n",
        "* Python is dynamically typed, which means that you don't have to declare the type of a variable when you create one. You can even change the type of data held by a variable at any time."
      ],
      "metadata": {
        "id": "l-bx4NHABk1V"
      }
    },
    {
      "cell_type": "markdown",
      "source": [
        "**Q.4. What will happen if a keyword is used as a variable name?**\n",
        "\n",
        "+ You will find a SyntaxError. For example:"
      ],
      "metadata": {
        "id": "4dMBCm2aCC7_"
      }
    },
    {
      "cell_type": "code",
      "source": [
        "class = 89"
      ],
      "metadata": {
        "colab": {
          "base_uri": "https://localhost:8080/",
          "height": 133
        },
        "id": "_uLWR1RPBkV3",
        "outputId": "ae119abd-997c-4bec-81d0-6b5236fd0d0b"
      },
      "execution_count": null,
      "outputs": [
        {
          "output_type": "error",
          "ename": "SyntaxError",
          "evalue": "ignored",
          "traceback": [
            "\u001b[0;36m  File \u001b[0;32m\"<ipython-input-10-08e180300fb8>\"\u001b[0;36m, line \u001b[0;32m1\u001b[0m\n\u001b[0;31m    class = 89\u001b[0m\n\u001b[0m          ^\u001b[0m\n\u001b[0;31mSyntaxError\u001b[0m\u001b[0;31m:\u001b[0m invalid syntax\n"
          ]
        }
      ]
    },
    {
      "cell_type": "markdown",
      "source": [
        "**Q.5. For what purpose def keyword is used?**\n",
        "\n",
        "* They are used to define the syntax and structure of the Python language.\n",
        "* Each keyword has a specific meaning and usage in Python programming. For instance, def is used for defining functions, if is used for making conditional statements, for and while are used for loops, class is used for defining a class, and so on."
      ],
      "metadata": {
        "id": "uYX1lo5iDRSn"
      }
    },
    {
      "cell_type": "markdown",
      "source": [
        "**Q.6. What is the operation of this special character ‘\\’?**\n",
        "\n",
        "* In Python strings, the backslash \"\\\" is a special character, also called the \"escape\" character. \n",
        "* It is used in representing certain whitespace characters: \"\\t\" is a tab, \"\\n\" is a newline, and \"\\r\" is a carriage return. \n",
        "* Conversely, prefixing a special character with \"\\\" turns it into an ordinary character."
      ],
      "metadata": {
        "id": "ccFgSc4FDsv1"
      }
    },
    {
      "cell_type": "markdown",
      "source": [
        "Q.7. Give an example of the following conditions:\n",
        "\n",
        "(i) Homogeneous list\n",
        "\n",
        "(ii) Heterogeneous set\n",
        "\n",
        "(iii) Homogeneous tuple"
      ],
      "metadata": {
        "id": "0B29op_NFoRf"
      }
    },
    {
      "cell_type": "code",
      "source": [
        "# Homogeneous list\n",
        "h_list = [0, 1, 3, 5, 7]\n",
        "h_list_2 = ['a', 'b', 'c', 'd']"
      ],
      "metadata": {
        "id": "5D5iCguwDzZw"
      },
      "execution_count": null,
      "outputs": []
    },
    {
      "cell_type": "code",
      "source": [
        "from typing_extensions import Concatenate\n",
        "# Heterogeneous set\n",
        "het_set = set(h_list + h_list_2)\n",
        "het_set"
      ],
      "metadata": {
        "colab": {
          "base_uri": "https://localhost:8080/"
        },
        "id": "wJg0lyggGekd",
        "outputId": "106cbece-949a-47e3-a7f2-0224c535077c"
      },
      "execution_count": null,
      "outputs": [
        {
          "output_type": "execute_result",
          "data": {
            "text/plain": [
              "{0, 1, 3, 5, 7, 'a', 'b', 'c', 'd'}"
            ]
          },
          "metadata": {},
          "execution_count": 21
        }
      ]
    },
    {
      "cell_type": "code",
      "source": [
        "# Homogeneous tuple\n",
        "heterogeneous_tupla = (0, 1, 3, 5, 7, 'a', 'b', 'c', 'd', True, False, 3.14, 12.0,)\n",
        "hom_tupla_1 = []\n",
        "hom_tupla_2 = []\n",
        "hom_tupla_3 = []\n",
        "hom_tupla_4 = []\n",
        "for i in heterogeneous_tupla:\n",
        "    if type(i) == int:\n",
        "        hom_tupla_1.append(i)\n",
        "    elif type(i) == str:\n",
        "        hom_tupla_2.append(i)\n",
        "    elif type(i) == bool:\n",
        "        hom_tupla_3.append(i)\n",
        "    elif type(i) == float:\n",
        "        hom_tupla_4.append(i)\n",
        "print(hom_tupla_1)\n",
        "print(hom_tupla_2)\n",
        "print(hom_tupla_3)\n",
        "print(hom_tupla_4)"
      ],
      "metadata": {
        "colab": {
          "base_uri": "https://localhost:8080/"
        },
        "id": "7D4ROhoOHCPU",
        "outputId": "8db06a4a-7165-4b9b-f149-3c0373c4fb64"
      },
      "execution_count": null,
      "outputs": [
        {
          "output_type": "stream",
          "name": "stdout",
          "text": [
            "[0, 1, 3, 5, 7]\n",
            "['a', 'b', 'c', 'd']\n",
            "[True, False]\n",
            "[3.14, 12.0]\n"
          ]
        }
      ]
    },
    {
      "cell_type": "markdown",
      "source": [
        "**Q.8. Explain the mutable and immutable data types with proper explanation & examples.**\n",
        "\n",
        "* Some of the mutable data types in Python are list, dictionary, set and user-defined classes.\n",
        "* On the other hand, some of the immutable data types are int, float, decimal, bool, string, tuple, and range."
      ],
      "metadata": {
        "id": "OWA-uIihKgnr"
      }
    },
    {
      "cell_type": "code",
      "source": [
        "list_animals = ['cat', 'dog', 'pig']\n",
        "list_animals[2] = 'bird' # A list is mutable because you can modify it.\n",
        "list_animals"
      ],
      "metadata": {
        "colab": {
          "base_uri": "https://localhost:8080/"
        },
        "id": "4u7fRdEfKrj2",
        "outputId": "ba39e248-9c11-48eb-d65e-7c95a78a706f"
      },
      "execution_count": null,
      "outputs": [
        {
          "output_type": "execute_result",
          "data": {
            "text/plain": [
              "['cat', 'dog', 'bird']"
            ]
          },
          "metadata": {},
          "execution_count": 38
        }
      ]
    },
    {
      "cell_type": "code",
      "source": [
        "tuple_animals = ('cat', 'dog', 'pig')\n",
        "tuple_animals[2] = 'bird' # A tuple is mutable because you can not modify it.\n",
        "tuple_animals"
      ],
      "metadata": {
        "colab": {
          "base_uri": "https://localhost:8080/",
          "height": 205
        },
        "id": "UBzjcPhaLTxA",
        "outputId": "1b955740-cd50-4536-ad6d-5c8e971cb68b"
      },
      "execution_count": null,
      "outputs": [
        {
          "output_type": "error",
          "ename": "TypeError",
          "evalue": "ignored",
          "traceback": [
            "\u001b[0;31m---------------------------------------------------------------------------\u001b[0m",
            "\u001b[0;31mTypeError\u001b[0m                                 Traceback (most recent call last)",
            "\u001b[0;32m<ipython-input-40-28cea9bd9ea9>\u001b[0m in \u001b[0;36m<cell line: 2>\u001b[0;34m()\u001b[0m\n\u001b[1;32m      1\u001b[0m \u001b[0mtuple_animals\u001b[0m \u001b[0;34m=\u001b[0m \u001b[0;34m(\u001b[0m\u001b[0;34m'cat'\u001b[0m\u001b[0;34m,\u001b[0m \u001b[0;34m'dog'\u001b[0m\u001b[0;34m,\u001b[0m \u001b[0;34m'pig'\u001b[0m\u001b[0;34m)\u001b[0m\u001b[0;34m\u001b[0m\u001b[0;34m\u001b[0m\u001b[0m\n\u001b[0;32m----> 2\u001b[0;31m \u001b[0mtuple_animals\u001b[0m\u001b[0;34m[\u001b[0m\u001b[0;36m2\u001b[0m\u001b[0;34m]\u001b[0m \u001b[0;34m=\u001b[0m \u001b[0;34m'bird'\u001b[0m \u001b[0;31m# A tuple is mutable because you can modify it.\u001b[0m\u001b[0;34m\u001b[0m\u001b[0;34m\u001b[0m\u001b[0m\n\u001b[0m\u001b[1;32m      3\u001b[0m \u001b[0mtuple_animals\u001b[0m\u001b[0;34m\u001b[0m\u001b[0;34m\u001b[0m\u001b[0m\n",
            "\u001b[0;31mTypeError\u001b[0m: 'tuple' object does not support item assignment"
          ]
        }
      ]
    },
    {
      "cell_type": "markdown",
      "source": [
        "Q.9. Write a code to create the given structure using only for loop.\n",
        "\n",
        "        *\n",
        "       ***\n",
        "      *****\n",
        "     *******\n",
        "    ********* "
      ],
      "metadata": {
        "id": "xw_6WLBxL5zl"
      }
    },
    {
      "cell_type": "code",
      "source": [
        "a = 9\n",
        "\n",
        "for i in range(1, 10, 2):\n",
        "    print((''*a+i*'*').center(20, ' '))\n",
        "    a = a+1  "
      ],
      "metadata": {
        "colab": {
          "base_uri": "https://localhost:8080/"
        },
        "id": "ZHM8sK5azjSD",
        "outputId": "14b9447e-3031-4c68-b255-ed1dec49f8c9"
      },
      "execution_count": 32,
      "outputs": [
        {
          "output_type": "stream",
          "name": "stdout",
          "text": [
            "         *          \n",
            "        ***         \n",
            "       *****        \n",
            "      *******       \n",
            "     *********      \n"
          ]
        }
      ]
    },
    {
      "cell_type": "code",
      "source": [
        "for i in range(6):\n",
        "    if i <= 3:\n",
        "        n = i\n",
        "    else:\n",
        "        n = 0+i\n",
        "    print(('* '*n).center(20, ' '))"
      ],
      "metadata": {
        "colab": {
          "base_uri": "https://localhost:8080/"
        },
        "id": "C2LuEg2eL4zf",
        "outputId": "4c663efc-b9cb-4a55-94b7-b7b53386813c"
      },
      "execution_count": 15,
      "outputs": [
        {
          "output_type": "stream",
          "name": "stdout",
          "text": [
            "                    \n",
            "         *          \n",
            "        * *         \n",
            "       * * *        \n",
            "      * * * *       \n",
            "     * * * * *      \n"
          ]
        }
      ]
    },
    {
      "cell_type": "markdown",
      "source": [
        "Q.10. Write a code to create the given structure using while loop.\n",
        "\n",
        "        |||||||||\n",
        "         |||||||\n",
        "          |||||\n",
        "           |||\n",
        "            |"
      ],
      "metadata": {
        "id": "nINSmLxLzJUp"
      }
    },
    {
      "cell_type": "code",
      "source": [
        "a = 0\n",
        "b = 5\n",
        "\n",
        "while a < 5:\n",
        "    print(((''*(a*2)+'|')*((b*2)-1)).center(10, ' '))\n",
        "    a += 1\n",
        "    b -= 1\n"
      ],
      "metadata": {
        "colab": {
          "base_uri": "https://localhost:8080/"
        },
        "id": "UlJaXI1M53nt",
        "outputId": "aeb6f168-4d64-41af-fa42-b6d0a1e94fad"
      },
      "execution_count": 94,
      "outputs": [
        {
          "output_type": "stream",
          "name": "stdout",
          "text": [
            "||||||||| \n",
            " |||||||  \n",
            "  |||||   \n",
            "   |||    \n",
            "    |     \n"
          ]
        }
      ]
    },
    {
      "cell_type": "code",
      "source": [
        "a = 1\n",
        "while a < 7:\n",
        "\n",
        "    #for i in range(11, 0, -2):\n",
        "        print((''*a+('| ')*(7-a)).center(15, ' '))\n",
        "        a += 1  "
      ],
      "metadata": {
        "colab": {
          "base_uri": "https://localhost:8080/"
        },
        "id": "c03m5hVo3mGU",
        "outputId": "9a21231a-0937-43df-a962-98c1bddef8c5"
      },
      "execution_count": 96,
      "outputs": [
        {
          "output_type": "stream",
          "name": "stdout",
          "text": [
            "  | | | | | |  \n",
            "   | | | | |   \n",
            "    | | | |    \n",
            "     | | |     \n",
            "      | |      \n",
            "       |       \n"
          ]
        }
      ]
    },
    {
      "cell_type": "code",
      "source": [
        "a = 1\n",
        "\n",
        "for i in range(11, 0, -2):\n",
        "    print((''*a+i*'|').center(15, ' '))\n",
        "    a = a+1  "
      ],
      "metadata": {
        "colab": {
          "base_uri": "https://localhost:8080/"
        },
        "id": "UANNTsCR2ZBt",
        "outputId": "03dd869c-4820-4bd7-c3ae-7bf82e3c477b"
      },
      "execution_count": 98,
      "outputs": [
        {
          "output_type": "stream",
          "name": "stdout",
          "text": [
            "  |||||||||||  \n",
            "   |||||||||   \n",
            "    |||||||    \n",
            "     |||||     \n",
            "      |||      \n",
            "       |       \n"
          ]
        }
      ]
    }
  ]
}