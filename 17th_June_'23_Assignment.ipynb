{
  "nbformat": 4,
  "nbformat_minor": 0,
  "metadata": {
    "colab": {
      "provenance": [],
      "authorship_tag": "ABX9TyNkFNsTpKLHQrG0hSoywwra",
      "include_colab_link": true
    },
    "kernelspec": {
      "name": "python3",
      "display_name": "Python 3"
    },
    "language_info": {
      "name": "python"
    }
  },
  "cells": [
    {
      "cell_type": "markdown",
      "metadata": {
        "id": "view-in-github",
        "colab_type": "text"
      },
      "source": [
        "<a href=\"https://colab.research.google.com/github/LGLV/ineuron_assignments_2023/blob/main/17th_June_'23_Assignment.ipynb\" target=\"_parent\"><img src=\"https://colab.research.google.com/assets/colab-badge.svg\" alt=\"Open In Colab\"/></a>"
      ]
    },
    {
      "cell_type": "markdown",
      "source": [
        "**1. What is the role of try and exception block?**\n",
        "\n",
        "\n",
        "\n",
        "* try block: The code within the try block contains the statements that may potentially raise an exception. It allows you to specify the section of code that you want to monitor for exceptions.\n",
        "\n",
        "* except block: If an exception occurs within the try block, the corresponding except block(s) are executed. The except block allows you to define the actions or code that should be executed when a specific exception is raised. You can have multiple except blocks to handle different types of exceptions.\n"
      ],
      "metadata": {
        "id": "VHdBs7BTaLoc"
      }
    },
    {
      "cell_type": "markdown",
      "source": [
        "**2. What is the syntax for a basic try-except block?**\n"
      ],
      "metadata": {
        "id": "yiO1qq2-aRDQ"
      }
    },
    {
      "cell_type": "code",
      "execution_count": 4,
      "metadata": {
        "colab": {
          "base_uri": "https://localhost:8080/"
        },
        "id": "Cc_HgRNQaFcM",
        "outputId": "9fb72755-68ab-4d81-a517-81425c971e32"
      },
      "outputs": [
        {
          "output_type": "stream",
          "name": "stdout",
          "text": [
            "Enter an int dividend: 3\n",
            "Enter an int divisor: 0\n",
            "Division by 0 is not defined\n"
          ]
        }
      ],
      "source": [
        "try:\n",
        "    dividend = int(input('Enter an int dividend: '))\n",
        "    divisor = int(input('Enter an int divisor: '))\n",
        "    quotient = dividend/divisor\n",
        "    print(quotient)\n",
        "except ZeroDivisionError:\n",
        "    print('Division by 0 is not defined')"
      ]
    },
    {
      "cell_type": "markdown",
      "source": [
        "**3. What happens if an exception occurs inside a try block and there is no matching\n",
        "except block?**\n",
        "\n",
        "If an exception occurs inside a try block and there is no matching except block to handle that specific exception, the exception will propagate up the call stack until it is caught by an appropriate exception handler or until it reaches the top level of the program.\n",
        "\n",
        "If the exception is not caught anywhere in the program, it will be considered an \"unhandled exception,\" and the program will terminate. In most programming languages, an unhandled exception typically results in the display of an error message or a stack trace, providing information about the exception and its location in the code.\n",
        "\n",
        "It is generally recommended to have appropriate exception handling in place to catch and handle exceptions within a program. This allows for graceful error handling, logging, and potentially taking corrective actions, rather than abruptly terminating the program."
      ],
      "metadata": {
        "id": "8q9i-DwkaRwm"
      }
    },
    {
      "cell_type": "markdown",
      "source": [
        "**4. What is the difference between using a bare except block and specifying a specific\n",
        "exception type?**\n",
        "\n",
        "In Python, there is a difference between using a bare except block and specifying a specific exception type. Let's explore these differences:\n",
        "\n",
        "* Bare except block:\n",
        "\n",
        "A bare except block is used to catch all types of exceptions that may occur within the try block.\n",
        "When an exception occurs, if there is a bare except block present, it will catch the exception regardless of its type.\n",
        "This can be useful in certain situations where you want to catch any type of exception and perform a generic error handling routine.\n",
        "However, using a bare except block is generally discouraged because it can catch and hide unexpected errors, making it harder to diagnose and fix issues in the code.\n",
        "It is recommended to use specific exception handlers whenever possible to handle different types of exceptions appropriately.\n",
        "* Specifying a specific exception type:\n",
        "\n",
        "Instead of using a bare except block, you can specify the type of exception you want to handle by using an except block followed by the exception class.\n",
        "For example, except ValueError: will catch only ValueError exceptions.\n",
        "This allows you to handle specific exceptions in a more targeted manner, providing specialized error handling based on the type of exception.\n",
        "By specifying the exception type, you can differentiate between different types of exceptions and handle them accordingly.\n",
        "It also helps in maintaining code clarity and allows you to catch and handle different exceptions differently.\n",
        "\n",
        "In summary, while a bare except block can catch any type of exception, it is generally recommended to use specific exception handlers whenever possible. This allows for more precise error handling and makes it easier to debug and maintain the code."
      ],
      "metadata": {
        "id": "ZtDPsyvbaR7w"
      }
    },
    {
      "cell_type": "markdown",
      "source": [
        "**5. Can you have nested try-except blocks in Python? If yes, then give an example.**\n"
      ],
      "metadata": {
        "id": "uUxNOhb_aSGP"
      }
    },
    {
      "cell_type": "code",
      "source": [
        "try:\n",
        "    # Outer try block\n",
        "    print(\"Outer try block\")\n",
        "\n",
        "    try:\n",
        "        # Inner try block\n",
        "        print(\"Inner try block\")\n",
        "\n",
        "        dividend = int(input('Enter an int dividend: '))\n",
        "        divisor = int(input('Enter Zero as divisor: '))\n",
        "\n",
        "        quotient = dividend/divisor # Raises ZeroDivisionError\n",
        "\n",
        "        print(\"Result:\", quotient)  # This line will not be executed\n",
        "    except ZeroDivisionError:\n",
        "        print(\"Caught ZeroDivisionError in inner try-except block\")\n",
        "    finally:\n",
        "        print(\"Inner finally block\")\n",
        "except:\n",
        "    print(\"Caught an exception in outer try-except block\")\n",
        "\n",
        "print(\"End of program\")"
      ],
      "metadata": {
        "colab": {
          "base_uri": "https://localhost:8080/"
        },
        "id": "FcJGE55QnBkc",
        "outputId": "69787736-bc61-4f5a-8d68-a925075d3a30"
      },
      "execution_count": 7,
      "outputs": [
        {
          "output_type": "stream",
          "name": "stdout",
          "text": [
            "Outer try block\n",
            "Inner try block\n",
            "Enter an int dividend: 4\n",
            "Enter Zero as divisor: 0\n",
            "Caught ZeroDivisionError in inner try-except block\n",
            "Inner finally block\n",
            "End of program\n"
          ]
        }
      ]
    },
    {
      "cell_type": "markdown",
      "source": [
        "**6. Can we use multiple exception blocks, if yes then give an example.**\n"
      ],
      "metadata": {
        "id": "pyKh5_pMaSQ3"
      }
    },
    {
      "cell_type": "code",
      "source": [
        "try:\n",
        "    # Code that may raise exceptions\n",
        "    dividend = int(input('Enter an int dividend: '))\n",
        "    divisor = int(input('Enter Zero as divisor: '))\n",
        "\n",
        "    quotient = dividend/divisor # Raises ZeroDivisionError\n",
        "\n",
        "    print(\"Result:\", quotient)  # This line will not be executed\n",
        "except ZeroDivisionError:\n",
        "    print(\"Caught ZeroDivisionError\")\n",
        "except ValueError:\n",
        "    print(\"Caught ValueError\")\n",
        "except:\n",
        "    print(\"Caught an exception\")\n",
        "\n",
        "print(\"End of program\")"
      ],
      "metadata": {
        "colab": {
          "base_uri": "https://localhost:8080/"
        },
        "id": "Uu3sUggiq5d4",
        "outputId": "4aabcd9a-f1de-42d5-dab3-985ec188670a"
      },
      "execution_count": 9,
      "outputs": [
        {
          "output_type": "stream",
          "name": "stdout",
          "text": [
            "Enter an int dividend: 5\n",
            "Enter Zero as divisor: 0\n",
            "Caught ZeroDivisionError\n",
            "End of program\n"
          ]
        }
      ]
    },
    {
      "cell_type": "markdown",
      "source": [
        "**7. Write the reason due to which following errors are raised:**\n",
        "\n",
        "    a. EOFError\n",
        "    b. FloatingPointError\n",
        "    c. IndexError\n",
        "    d. MemoryError\n",
        "    e. OverflowError\n",
        "    f. TabError\n",
        "    g. ValueError\n"
      ],
      "metadata": {
        "id": "ZsABlVwSaSag"
      }
    },
    {
      "cell_type": "markdown",
      "source": [
        "a. EOFError: This error is raised when the built-in input() function hits the end-of-file condition (EOF) unexpectedly. It typically occurs when the input stream ends before the expected input is received. For example, if you are reading from a file and reach the end of the file without obtaining the required input.\n",
        "\n",
        "b. FloatingPointError: This error is raised when a floating-point operation fails to produce a valid result. It can occur due to various reasons, such as dividing by zero, taking the square root of a negative number, or performing an invalid mathematical operation on floating-point values.\n",
        "\n",
        "c. IndexError: This error is raised when you try to access an element in a sequence (e.g., list, tuple, string) using an invalid index. It occurs when the index is either negative or greater than or equal to the length of the sequence. Essentially, it indicates that the index used to access an element is out of range.\n",
        "\n",
        "d. MemoryError: This error is raised when an operation fails due to insufficient memory resources. It occurs when the program tries to allocate more memory than what is available in the system. This can happen when working with large datasets or when recursive functions consume too much memory.\n",
        "\n",
        "e. OverflowError: This error is raised when a mathematical operation exceeds the maximum representable value for a numeric type. It occurs when the result of an arithmetic operation is too large to be represented within the allowed range for that numeric type.\n",
        "\n",
        "f. TabError: This error is raised when there is an issue with the indentation of code using tabs and spaces inconsistently. It typically occurs when mixing tabs and spaces for indentation in a single code block, violating the Python syntax rules for indentation.\n",
        "\n",
        "g. ValueError: This error is raised when a function receives an argument of the correct type but an inappropriate value. It typically occurs when a function expects a certain range of values or specific conditions to be met, and the passed argument violates those expectations."
      ],
      "metadata": {
        "id": "IX3ZaCjdsev6"
      }
    },
    {
      "cell_type": "markdown",
      "source": [
        "**8. Write code for the following given scenario and add try-exception block to it.**\n",
        "\n",
        "    a. Program to divide two numbers\n",
        "    b. Program to convert a string to an integer\n",
        "    c. Program to access an element in a list\n",
        "    d. Program to handle a specific exception\n",
        "    e. Program to handle any exception"
      ],
      "metadata": {
        "id": "OgKHdUXkaSkq"
      }
    },
    {
      "cell_type": "code",
      "source": [
        "# a. Program to divide two numbers.\n",
        "\n",
        "try:\n",
        "    numerator = int(input('Enter a number: '))\n",
        "    denominator = int(input('Enter a number: '))\n",
        "    result = numerator/denominator\n",
        "    print('Result:', result)\n",
        "except ZeroDivisionError:\n",
        "    print('Error: Division by zero is not defined')"
      ],
      "metadata": {
        "id": "u-axOvF5sczE"
      },
      "execution_count": null,
      "outputs": []
    },
    {
      "cell_type": "code",
      "source": [
        "# b. Program to convert a string to an integer.\n",
        "\n",
        "try:\n",
        "    str_num = input('Enter number: ')\n",
        "    num = int(str_num)\n",
        "    print('Numbre:', num)\n",
        "except ValueError:\n",
        "    print('Error: Invalid number entered')"
      ],
      "metadata": {
        "colab": {
          "base_uri": "https://localhost:8080/"
        },
        "id": "UDyHyPafufwn",
        "outputId": "85c2c166-dd62-4e72-dfb5-d5cc0dd53d6e"
      },
      "execution_count": 14,
      "outputs": [
        {
          "output_type": "stream",
          "name": "stdout",
          "text": [
            "Énter number: one\n",
            "Error: Invalid number entered\n"
          ]
        }
      ]
    },
    {
      "cell_type": "code",
      "source": [
        "# c. Program to access an element in a list.\n",
        "\n",
        "try:\n",
        "    l = [1,2,3,4]\n",
        "    index = int(input('Enter the index: '))\n",
        "    element = l[index]\n",
        "    print(f'The element in the index {index}, is {element}.')\n",
        "except IndexError:\n",
        "    print('Error: The chosen index is out of range.')"
      ],
      "metadata": {
        "colab": {
          "base_uri": "https://localhost:8080/"
        },
        "id": "rYQKAGlNvfsN",
        "outputId": "2dc4f5c1-85fb-4dbc-84c7-ba6c83fa823a"
      },
      "execution_count": 29,
      "outputs": [
        {
          "output_type": "stream",
          "name": "stdout",
          "text": [
            "Enter the index: 6\n",
            "Error: The chosen index is out of range.\n"
          ]
        }
      ]
    },
    {
      "cell_type": "code",
      "source": [
        "# d. Program to handle a specific exception.\n",
        "\n",
        "try:\n",
        "    str_num = input('Enter number: ')\n",
        "    denom = int(input('Enter a number: '))\n",
        "    # num = int(str_num)\n",
        "    quotient = str_num/denom\n",
        "    print('Result:', quotient)\n",
        "except TypeError:\n",
        "    print('Error: Unsupported operant type')\n"
      ],
      "metadata": {
        "colab": {
          "base_uri": "https://localhost:8080/"
        },
        "id": "GnoJzKtExZvV",
        "outputId": "79155653-045f-46b8-c0cc-fcd793163e4e"
      },
      "execution_count": 45,
      "outputs": [
        {
          "output_type": "stream",
          "name": "stdout",
          "text": [
            "Enter number: 3\n",
            "Enter a number: 4\n",
            "Error: Unsupported operant type\n"
          ]
        }
      ]
    },
    {
      "cell_type": "code",
      "source": [
        "# e. Program to handle any exception.\n",
        "\n",
        "try:\n",
        "    a = 10\n",
        "    b = 0\n",
        "    output = a/b\n"
      ],
      "metadata": {
        "colab": {
          "base_uri": "https://localhost:8080/",
          "height": 135
        },
        "id": "GWpSwh3kzynx",
        "outputId": "d3d83fe2-ea41-4b00-cd7b-d17edc8952c6"
      },
      "execution_count": 46,
      "outputs": [
        {
          "output_type": "error",
          "ename": "SyntaxError",
          "evalue": "ignored",
          "traceback": [
            "\u001b[0;36m  File \u001b[0;32m\"<ipython-input-46-12e3edc51889>\"\u001b[0;36m, line \u001b[0;32m6\u001b[0m\n\u001b[0;31m    output = a/b\u001b[0m\n\u001b[0m                ^\u001b[0m\n\u001b[0;31mSyntaxError\u001b[0m\u001b[0;31m:\u001b[0m incomplete input\n"
          ]
        }
      ]
    }
  ]
}