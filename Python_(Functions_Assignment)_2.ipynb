{
  "nbformat": 4,
  "nbformat_minor": 0,
  "metadata": {
    "colab": {
      "provenance": [],
      "authorship_tag": "ABX9TyPhKdaT6+HSvIUCAfmQe9jf",
      "include_colab_link": true
    },
    "kernelspec": {
      "name": "python3",
      "display_name": "Python 3"
    },
    "language_info": {
      "name": "python"
    }
  },
  "cells": [
    {
      "cell_type": "markdown",
      "metadata": {
        "id": "view-in-github",
        "colab_type": "text"
      },
      "source": [
        "<a href=\"https://colab.research.google.com/github/LGLV/ineuron_assignments_2023/blob/main/Python_(Functions_Assignment)_2.ipynb\" target=\"_parent\"><img src=\"https://colab.research.google.com/assets/colab-badge.svg\" alt=\"Open In Colab\"/></a>"
      ]
    },
    {
      "cell_type": "markdown",
      "source": [
        "**1. What is a lambda function in Python, and how does it differ from a regular function?**\n",
        "\n",
        "Lambda functions, also known as anonymous functions, are small, single-expression functions in Python that are defined without a name. They are created using the lambda keyword and are typically used for simple and concise operations. Lambda functions are different from regular functions in terms of their syntax and usage.\n",
        "\n",
        "lambda arguments: expression\n",
        "\n",
        "Key differences between lambda functions and regular functions:\n",
        "\n",
        "* Anonymous: Lambda functions do not require a name like regular functions. They are created and used on the fly without assigning them to a variable.\n",
        "\n",
        "* Single Expression: Lambda functions are limited to a single expression, unlike regular functions that can consist of multiple statements and have a defined block of code.\n",
        "\n",
        "* Concise Syntax: Lambda functions provide a more concise syntax for defining small functions. They are often used in situations where a small function is needed for a specific operation and defining a regular function would be excessive.\n"
      ],
      "metadata": {
        "id": "ND-cJEXGnEbA"
      }
    },
    {
      "cell_type": "code",
      "source": [
        "# Lambda function:\n",
        "sum = lambda x,y: x + y\n",
        "sum(2,3)"
      ],
      "metadata": {
        "colab": {
          "base_uri": "https://localhost:8080/"
        },
        "id": "t4pNxbLxqunz",
        "outputId": "5a8fa991-bd89-4cd4-c693-fafe2561cefc"
      },
      "execution_count": null,
      "outputs": [
        {
          "output_type": "execute_result",
          "data": {
            "text/plain": [
              "5"
            ]
          },
          "metadata": {},
          "execution_count": 6
        }
      ]
    },
    {
      "cell_type": "markdown",
      "source": [
        "**2. Can a lambda function in Python have multiple arguments? If yes, how can you define and use\n",
        "them?**\n",
        "\n",
        "Yes, a lambda function in Python can have multiple arguments. You can define and use multiple arguments in a lambda function by separating them with commas in the argument list.\n",
        "\n",
        "You can define lambda functions with any number of arguments by simply separating them with commas. For example, you can define a lambda function with three arguments like this: lambda x, y, z: x + y - z. Similarly, you can define lambda functions with more arguments as needed.\n",
        "\n",
        "Lambda functions with multiple arguments are often used in combination with other built-in functions like map(), filter(), or reduce(), where a function argument is required to perform operations on iterables. They provide a concise way to define small, one-line functions with multiple arguments.\n",
        "\n",
        "Here's an example that demonstrates how to define and use a lambda function with multiple arguments:"
      ],
      "metadata": {
        "id": "HFzH9wg_nLYX"
      }
    },
    {
      "cell_type": "code",
      "source": [
        "# Lambda function with multiple arguments\n",
        "math_op = lambda x, y, z: x * y - z\n",
        "\n",
        "result = math_op(3, 4, 18)\n",
        "print(result)  # Output: 9"
      ],
      "metadata": {
        "colab": {
          "base_uri": "https://localhost:8080/"
        },
        "id": "LI7Zal3kpwcB",
        "outputId": "6b0803e3-3fe0-436b-9d07-8b6ee614c5c4"
      },
      "execution_count": null,
      "outputs": [
        {
          "output_type": "stream",
          "name": "stdout",
          "text": [
            "-6\n"
          ]
        }
      ]
    },
    {
      "cell_type": "markdown",
      "source": [
        "**3. How are lambda functions typically used in Python? Provide an example use case.**\n",
        "\n",
        "Lambda functions in Python are typically used in situations where a small, one-line function is required, and it is more convenient and concise to define the function inline rather than creating a separate named function. They are commonly used in combination with other built-in functions like map(), filter(), or sort(), where a function argument is needed.\n",
        "\n",
        "One example use case of lambda functions is with the map() function. The map() function applies a given function to each item in an iterable and returns an iterator of the results. Lambda functions can be used to define the function argument for map() in a concise manner.\n",
        "\n",
        "Here's two examples that demonstrates the use of a lambda function with map() and filter():"
      ],
      "metadata": {
        "id": "iI7O38KtnUYy"
      }
    },
    {
      "cell_type": "code",
      "source": [
        "numbers = [1, 2, 3, 4, 5]\n",
        "pow_numbers = list(map(lambda x: x ** x, numbers))\n",
        "\n",
        "print(pow_numbers)  # Output: [1, 4, 27, 256, 3125]"
      ],
      "metadata": {
        "colab": {
          "base_uri": "https://localhost:8080/"
        },
        "id": "Rz2AhuvArZ0R",
        "outputId": "18caac0c-beab-4d40-814b-6fe13b312cce"
      },
      "execution_count": null,
      "outputs": [
        {
          "output_type": "stream",
          "name": "stdout",
          "text": [
            "[1, 4, 27, 256, 3125]\n"
          ]
        }
      ]
    },
    {
      "cell_type": "code",
      "source": [
        "numbers = [1, 2, 3, 4, 5]\n",
        "odd_numbers = list(filter(lambda x: x%2 != 0, numbers))\n",
        "\n",
        "print(odd_numbers)  # Output: [1, 3, 5]"
      ],
      "metadata": {
        "colab": {
          "base_uri": "https://localhost:8080/"
        },
        "id": "iiOdFmIMsK95",
        "outputId": "ca43e4c4-fcc8-42f5-c05c-4f057415c807"
      },
      "execution_count": null,
      "outputs": [
        {
          "output_type": "stream",
          "name": "stdout",
          "text": [
            "[1, 3, 5]\n"
          ]
        }
      ]
    },
    {
      "cell_type": "markdown",
      "source": [
        "**4. What are the advantages and limitations of lambda functions compared to regular functions in\n",
        "Python?**\n",
        "\n",
        "Advantages of Lambda Functions:\n",
        "\n",
        "* **Conciseness**: Lambda functions allow you to define small functions in a more compact and concise manner. They can often replace the need for writing a separate named function for simple operations, resulting in cleaner and more readable code.\n",
        "\n",
        "* **Anonymity**: Lambda functions are anonymous, meaning they don't require a function name declaration. This can be beneficial when you need to define a function for a specific purpose without the need for reuse or reference elsewhere in the code.\n",
        "\n",
        "* **Ease of Use with Higher-Order Functions**: Lambda functions are commonly used in conjunction with higher-order functions like map(), filter(), or sort(). They provide a convenient way to define the function argument inline, eliminating the need for defining a separate named function.\n",
        "\n",
        "Limitations of Lambda Functions:\n",
        "\n",
        "* **Limited Functionality**: Lambda functions are designed for simple and one-line expressions. They can't contain multiple statements or complex logic like regular functions. If you need to perform more complex operations or reuse the function in multiple places, it's better to use a regular named function.\n",
        "\n",
        "* **Lack of Documentation**: Lambda functions lack a docstring, which is a string used to document a function's purpose, arguments, and return value. This can make lambda functions less self-explanatory and harder to understand for other developers who may read the code.\n",
        "* **Readability**: While lambda functions can make code more concise, they can also make it less readable if they become too complex or contain intricate expressions. It's important to strike a balance between conciseness and readability.\n",
        "\n",
        "* **Debugging and Testing**: Lambda functions can be more challenging to debug and test compared to regular named functions. Since they lack a name, it can be harder to identify and isolate issues during debugging or testing processes."
      ],
      "metadata": {
        "id": "GGt7RcxEnZVK"
      }
    },
    {
      "cell_type": "markdown",
      "source": [
        "**5. Are lambda functions in Python able to access variables defined outside of their own scope?\n",
        "Explain with an example.**\n",
        "\n",
        "Yes, lambda functions in Python can access variables defined outside of their own scope. This behavior is known as \"lexical scoping\" or \"closure\" in Python.\n",
        "\n",
        "In lexical scoping, lambda functions can access variables from the enclosing scope in which they are defined. This includes variables defined in the global scope or variables defined in the local scope of an enclosing function.\n",
        "\n",
        "Here's an example to illustrate how lambda functions can access variables from the enclosing scope:"
      ],
      "metadata": {
        "id": "8CoCPS37ne3f"
      }
    },
    {
      "cell_type": "code",
      "source": [
        "def outer_function():\n",
        "    message = \"Hello\"\n",
        "\n",
        "    # Lambda function accessing variable from the enclosing scope\n",
        "    greet = lambda name: message + \", \" + name\n",
        "\n",
        "    return greet\n",
        "\n",
        "# Calling outer_function to get the lambda function\n",
        "greeting = outer_function()\n",
        "\n",
        "# Calling the lambda function\n",
        "print(greeting(\"Luis\"))  # Output: Hello, Luis\n",
        "print(greeting(\"Luz\"))  # Output: Hello, Luz"
      ],
      "metadata": {
        "colab": {
          "base_uri": "https://localhost:8080/"
        },
        "id": "tMU2Y5x8vDNN",
        "outputId": "debc0345-f1c6-4d07-e8e9-38db1c7f867f"
      },
      "execution_count": null,
      "outputs": [
        {
          "output_type": "stream",
          "name": "stdout",
          "text": [
            "Hello, Luis\n",
            "Hello, Luz\n"
          ]
        }
      ]
    },
    {
      "cell_type": "markdown",
      "source": [
        "**6. Write a lambda function to calculate the square of a given number.**\n"
      ],
      "metadata": {
        "id": "HgYNuJECnlkL"
      }
    },
    {
      "cell_type": "code",
      "source": [
        "n = int(input('Enter number: '))\n",
        "square = lambda a: a**2\n",
        "print(f'The square of {n} is: {square(n)}')"
      ],
      "metadata": {
        "colab": {
          "base_uri": "https://localhost:8080/"
        },
        "id": "tsPiGPi_vkBf",
        "outputId": "f50c530d-9592-455b-df04-335f37ef880c"
      },
      "execution_count": null,
      "outputs": [
        {
          "output_type": "stream",
          "name": "stdout",
          "text": [
            "Enter number: 4\n",
            "The square of 4 is: 16\n"
          ]
        }
      ]
    },
    {
      "cell_type": "markdown",
      "source": [
        "**7. Create a lambda function to find the maximum value in a list of integers.**\n"
      ],
      "metadata": {
        "id": "rI3S7RtTnp_I"
      }
    },
    {
      "cell_type": "code",
      "source": [
        "l = [1,3,5,7,9,11,13]\n",
        "max_val = lambda x: max(x)\n",
        "output = max_val(l)\n",
        "print(f'The maximum value in the list: {l} is: {output}')"
      ],
      "metadata": {
        "colab": {
          "base_uri": "https://localhost:8080/"
        },
        "id": "WtSTd3cdwOP9",
        "outputId": "6f6ba445-ee20-47ec-e983-389fec2d4245"
      },
      "execution_count": null,
      "outputs": [
        {
          "output_type": "stream",
          "name": "stdout",
          "text": [
            "The maximum value in the list: [1, 3, 5, 7, 9, 11, 13] is: 13\n"
          ]
        }
      ]
    },
    {
      "cell_type": "markdown",
      "source": [
        "**8. Implement a lambda function to filter out all the even numbers from a list of integers.**\n"
      ],
      "metadata": {
        "id": "ZQW3ApAGntY1"
      }
    },
    {
      "cell_type": "code",
      "source": [
        "l = [1,3,5,7,9,11,13,15,18]\n",
        "even_num = list(filter(lambda x: x%2 == 0, l))\n",
        "print(f'The even numbers in the list: {l} is: {even_num}')"
      ],
      "metadata": {
        "colab": {
          "base_uri": "https://localhost:8080/"
        },
        "id": "ektDEqMayYjc",
        "outputId": "75a3e4b4-76e6-4647-a07b-163d8a4178bf"
      },
      "execution_count": null,
      "outputs": [
        {
          "output_type": "stream",
          "name": "stdout",
          "text": [
            "The even numbers in the list: [1, 3, 5, 7, 9, 11, 13, 15, 18] is: [18]\n"
          ]
        }
      ]
    },
    {
      "cell_type": "markdown",
      "source": [
        "**9. Write a lambda function to sort a list of strings in ascending order based on the length of each\n",
        "string.**\n"
      ],
      "metadata": {
        "id": "naf7ELhRnxHM"
      }
    },
    {
      "cell_type": "code",
      "source": [
        "l = ['dog', 'cat', 'horse', 'bird', 'lizard']\n",
        "sort_str = sorted(l, key = lambda x: len(x))\n",
        "print(f'The sorted strings in the list: {l} is: {sort_str}')"
      ],
      "metadata": {
        "colab": {
          "base_uri": "https://localhost:8080/"
        },
        "id": "hZiRA10KzK_g",
        "outputId": "ba837e98-6642-42ee-f3e0-6cfe5a8e6b25"
      },
      "execution_count": null,
      "outputs": [
        {
          "output_type": "stream",
          "name": "stdout",
          "text": [
            "The sorted strings in the list: ['dog', 'cat', 'horse', 'bird', 'lizard'] is: ['dog', 'cat', 'bird', 'horse', 'lizard']\n"
          ]
        }
      ]
    },
    {
      "cell_type": "markdown",
      "source": [
        "**10. Create a lambda function that takes two lists as input and returns a new list containing the\n",
        "common elements between the two lists.**\n"
      ],
      "metadata": {
        "id": "cnjoaY_Kn3wM"
      }
    },
    {
      "cell_type": "code",
      "source": [
        "l1 = ['dog', 'cat', 'horse']\n",
        "l2 = ['lizard', 'horse', 'camel']\n",
        "\n",
        "com_ele = lambda x, y: [x for x in l1 if x in l2]\n",
        "output = com_ele(l1, l2)\n",
        "print(f'The commun element(s) between {l1} and {l2} is/are: {output}')"
      ],
      "metadata": {
        "colab": {
          "base_uri": "https://localhost:8080/"
        },
        "id": "tEdk0RWa1zNo",
        "outputId": "178cb9f7-0bf8-4fe7-ee47-76c3fd66562c"
      },
      "execution_count": null,
      "outputs": [
        {
          "output_type": "stream",
          "name": "stdout",
          "text": [
            "The commun element(s) between ['dog', 'cat', 'horse'] and ['lizard', 'horse', 'camel'] is/are: ['horse']\n"
          ]
        }
      ]
    },
    {
      "cell_type": "markdown",
      "source": [
        "**11. Write a recursive function to calculate the factorial of a given positive integer.**\n"
      ],
      "metadata": {
        "id": "eTcn4Xmun-cx"
      }
    },
    {
      "cell_type": "code",
      "source": [
        "n = int(input('Enter an integer number > 0: '))\n",
        "def factorial(n):\n",
        "    if n == 0:\n",
        "        return 1\n",
        "    elif n < 0:\n",
        "        return('Enter a positive number')\n",
        "    else:\n",
        "        return n*factorial(n-1)\n",
        "output = factorial(n)\n",
        "print(f'The factorial of {n} is: {output}')"
      ],
      "metadata": {
        "colab": {
          "base_uri": "https://localhost:8080/"
        },
        "id": "LYro6UsgAc4h",
        "outputId": "7a6cb777-a416-4595-f23b-5096c1b9c139"
      },
      "execution_count": 5,
      "outputs": [
        {
          "output_type": "stream",
          "name": "stdout",
          "text": [
            "Enter an integer number > 0: 7\n",
            "The factorial of 7 is: 5040\n"
          ]
        }
      ]
    },
    {
      "cell_type": "markdown",
      "source": [
        "**12. Implement a recursive function to compute the nth Fibonacci number.**\n"
      ],
      "metadata": {
        "id": "aPyBOiovoB8e"
      }
    },
    {
      "cell_type": "code",
      "source": [
        "n = int(input('Enter a number: '))\n",
        "def fibo(n):\n",
        "    if n <= 1:\n",
        "        return n\n",
        "    else:\n",
        "        return fibo(n-1) + fibo(n-2)\n",
        "output = fibo(n)\n",
        "print(f'The {n}th Fibonacci number is: {output}')"
      ],
      "metadata": {
        "colab": {
          "base_uri": "https://localhost:8080/"
        },
        "id": "tMxRk2AnE6b3",
        "outputId": "666a7ab1-d99b-44be-8bcd-276a1f8a2807"
      },
      "execution_count": 11,
      "outputs": [
        {
          "output_type": "stream",
          "name": "stdout",
          "text": [
            "Enter a number: 6\n",
            "The 6th Fibonacci number is: 8\n"
          ]
        }
      ]
    },
    {
      "cell_type": "markdown",
      "source": [
        "**13. Create a recursive function to find the sum of all the elements in a given list.**\n"
      ],
      "metadata": {
        "id": "kWKMrqHjoF0m"
      }
    },
    {
      "cell_type": "code",
      "source": [
        "list3 = [1,2,3,4,6,8,9]\n",
        "def sum_list(lst):\n",
        "    if len(lst) == 0:\n",
        "        return 0\n",
        "    else:\n",
        "        return lst[0] + sum_list(lst[1:])\n",
        "output = sum_list(list3)\n",
        "print(f'The sum of the elements in the list {list3} is: {output}')"
      ],
      "metadata": {
        "colab": {
          "base_uri": "https://localhost:8080/"
        },
        "id": "o2PLpY24KwMZ",
        "outputId": "82683e7f-6291-45c6-d67e-23d84c536276"
      },
      "execution_count": 29,
      "outputs": [
        {
          "output_type": "stream",
          "name": "stdout",
          "text": [
            "The sum of the elements in the list [1, 2, 3, 4, 6, 8, 9] is: 33\n"
          ]
        }
      ]
    },
    {
      "cell_type": "code",
      "source": [
        "# A more simple exampel.\n",
        "l3 = [1,2,3,4,6,8,9]\n",
        "def sum_list(lst):\n",
        "    return sum(lst[0:])\n",
        "output_2 = sum_list(l3)\n",
        "print(f'The sum of the elements in the list {l3} is: {output_2}')"
      ],
      "metadata": {
        "colab": {
          "base_uri": "https://localhost:8080/"
        },
        "id": "7IGA-6LfNejU",
        "outputId": "d7b8aa75-2fe7-4131-9b96-6484e240d58a"
      },
      "execution_count": 28,
      "outputs": [
        {
          "output_type": "stream",
          "name": "stdout",
          "text": [
            "The sum of the elements in the list [1, 2, 3, 4, 6, 8, 9] is: 33\n"
          ]
        }
      ]
    },
    {
      "cell_type": "markdown",
      "source": [
        "**14. Write a recursive function to determine whether a given string is a palindrome.**\n"
      ],
      "metadata": {
        "id": "nmUkxvRPoJB2"
      }
    },
    {
      "cell_type": "code",
      "source": [
        "string = input('Enter a string: ')\n",
        "def palindrome(string):\n",
        "    if len(string) <= 1:\n",
        "        return True\n",
        "    elif string[0] == string[-1]:\n",
        "        return palindrome(string[1:-1])\n",
        "    else:\n",
        "        return False\n",
        "output = palindrome(string)\n",
        "if output:\n",
        "    print(f'The string {string}, is a palindrome.')\n",
        "else:\n",
        "    print(f'The string {string}, is not a palindrome.')\n"
      ],
      "metadata": {
        "colab": {
          "base_uri": "https://localhost:8080/"
        },
        "id": "2mUpwOiAPyA2",
        "outputId": "e2de8b17-b659-41f0-884c-fdb9606d3c97"
      },
      "execution_count": 43,
      "outputs": [
        {
          "output_type": "stream",
          "name": "stdout",
          "text": [
            "Enter a string: anitalavalatina\n",
            "The string anitalavalatina, is a palindrome\n"
          ]
        }
      ]
    },
    {
      "cell_type": "markdown",
      "source": [
        "**15. Implement a recursive function to find the greatest common divisor (GCD) of two positive integers.**"
      ],
      "metadata": {
        "id": "AqPXplPXoMMZ"
      }
    },
    {
      "cell_type": "code",
      "execution_count": 52,
      "metadata": {
        "id": "0tXO8qT5mxyG",
        "colab": {
          "base_uri": "https://localhost:8080/"
        },
        "outputId": "df59c1cf-6d45-4a44-88e5-c807a0e16c48"
      },
      "outputs": [
        {
          "output_type": "stream",
          "name": "stdout",
          "text": [
            "Enter the 1st number: 12\n",
            "Enter the 2nd number: 36\n",
            "The GCD between (12, 36), is : 12\n"
          ]
        }
      ],
      "source": [
        "a = int(input('Enter the 1st number: '))\n",
        "b = int(input('Enter the 2nd number: '))\n",
        "\n",
        "def gcd(a, b):\n",
        "    if b == 0:\n",
        "        return a # The GCD has been found\n",
        "    else:\n",
        "        return gcd(b, a%b) # It recursively calls itself with b, until the remander becomes 0, at wich point the GCD is found.\n",
        "\n",
        "output = gcd(a, b)\n",
        "print(f'The GCD between {(a, b)}, is : {output}')\n"
      ]
    }
  ]
}