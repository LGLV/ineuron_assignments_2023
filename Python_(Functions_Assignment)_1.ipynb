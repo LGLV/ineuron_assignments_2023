{
  "nbformat": 4,
  "nbformat_minor": 0,
  "metadata": {
    "colab": {
      "provenance": [],
      "authorship_tag": "ABX9TyPFilTaDhDBImHSaMunC3j/",
      "include_colab_link": true
    },
    "kernelspec": {
      "name": "python3",
      "display_name": "Python 3"
    },
    "language_info": {
      "name": "python"
    }
  },
  "cells": [
    {
      "cell_type": "markdown",
      "metadata": {
        "id": "view-in-github",
        "colab_type": "text"
      },
      "source": [
        "<a href=\"https://colab.research.google.com/github/LGLV/ineuron_assignments_2023/blob/main/Python_(Functions_Assignment)_1.ipynb\" target=\"_parent\"><img src=\"https://colab.research.google.com/assets/colab-badge.svg\" alt=\"Open In Colab\"/></a>"
      ]
    },
    {
      "cell_type": "markdown",
      "source": [
        "**1. In Python, what is the difference between a built-in function and a user-defined function? Provide an\n",
        "example of each.**\n",
        "\n",
        "In Python, the main difference between a built-in function and a user-defined function lies in their origin and how they are defined.\n",
        "\n",
        "* **Built-in Function:**\n",
        "Built-in functions are functions that are pre-defined in the Python language. They are readily available for use without requiring any additional code or importing external modules. These functions are part of the Python standard library and cover a wide range of functionalities.\n",
        "\n",
        "* **User-Defined Function:**\n",
        "User-defined functions are created by the user to perform specific tasks or computations. They are defined using the def keyword and can be customized based on the user's requirements. User-defined functions provide flexibility and allow you to encapsulate a piece of code that can be reused multiple times.\n",
        "\n",
        "Both types of functions are valuable in different scenarios. Built-in functions are useful for common operations and tasks, while user-defined functions offer flexibility and allow developers to create specific functionalities tailored to their needs.\n"
      ],
      "metadata": {
        "id": "gsNuyDQ3BQ7M"
      }
    },
    {
      "cell_type": "code",
      "source": [
        "# Example of a Built-in Function:\n",
        "built_in = len('Hello word')\n",
        "print(f'The length of \"Hello word\" is {built_in}.')"
      ],
      "metadata": {
        "colab": {
          "base_uri": "https://localhost:8080/"
        },
        "id": "-8z_eVDZBhpq",
        "outputId": "5e9405b0-a213-4b5f-90fa-9e64910d5008"
      },
      "execution_count": 17,
      "outputs": [
        {
          "output_type": "stream",
          "name": "stdout",
          "text": [
            "The length of \"Hello word\" is 10.\n"
          ]
        }
      ]
    },
    {
      "cell_type": "code",
      "source": [
        "# Example of an User-Defined Function:\n",
        "n = int(input('Enter a number: '))\n",
        "def exp(n):\n",
        "    return n**3\n",
        "result = exp(3)\n",
        "print(f'The cubic value of {n} is {result}.')"
      ],
      "metadata": {
        "colab": {
          "base_uri": "https://localhost:8080/"
        },
        "id": "hMG1anM1CX_w",
        "outputId": "01458983-9b41-4012-d7ba-94f06806bb71"
      },
      "execution_count": 11,
      "outputs": [
        {
          "output_type": "stream",
          "name": "stdout",
          "text": [
            "Enter a number: 4\n",
            "The cubic value of 4 is 27.\n"
          ]
        }
      ]
    },
    {
      "cell_type": "markdown",
      "source": [
        "**2. How can you pass arguments to a function in Python? Explain the difference between positional\n",
        "arguments and keyword arguments.**\n",
        "\n",
        "In Python, you can pass arguments to a function by including them within the parentheses when calling the function. There are two main types of arguments that can be passed to a function: positional arguments and keyword arguments.\n",
        "\n",
        "* Positional Arguments:\n",
        "Positional arguments are passed to a function based on their position or order. The arguments are matched with the function parameters in the same order as they are provided. The number of positional arguments passed must match the number of parameters defined in the function.\n",
        "\n",
        "* Keyword Arguments:\n",
        "Keyword arguments are passed to a function using the parameter name explicitly. Instead of relying on the order of the arguments, you specify the parameter name followed by the value. This allows you to pass arguments in any order and provides clarity, especially when dealing with functions that have many parameters.\n",
        "\n",
        "Both positional and keyword arguments are useful in different scenarios. Positional arguments are commonly used when the order of arguments is significant and known, while keyword arguments provide flexibility and clarity, especially when dealing with functions that have many parameters or when you want to provide default values for some arguments."
      ],
      "metadata": {
        "id": "4iCafxUrEita"
      }
    },
    {
      "cell_type": "code",
      "execution_count": 49,
      "metadata": {
        "colab": {
          "base_uri": "https://localhost:8080/"
        },
        "id": "kFdadaNSBFXB",
        "outputId": "dfa4841a-23b2-4b4b-ba33-9ec9b5ee4203"
      },
      "outputs": [
        {
          "output_type": "stream",
          "name": "stdout",
          "text": [
            "Hello Shreya\n",
            "You are 21 years old\n",
            "And you come from Bangalore\n"
          ]
        }
      ],
      "source": [
        "# Example of Positional Arguments:\n",
        "def ident(name, age, state):\n",
        "    print('Hello', name)\n",
        "    print('You are', age, 'years old')\n",
        "    print('And you come from', state)\n",
        "ident('Shreya', 21, 'Bangalore')\n"
      ]
    },
    {
      "cell_type": "code",
      "source": [
        "# Example of Keyword Arguments:\n",
        "def ident(name, age, state):\n",
        "    print('Hello', name)\n",
        "    print('You are', age, 'years old')\n",
        "    print('And you come from', state)\n",
        "ident(age=21, name='Shreya', state='Bangalore')"
      ],
      "metadata": {
        "colab": {
          "base_uri": "https://localhost:8080/"
        },
        "id": "hp6CQ_U-JrMi",
        "outputId": "7e5c7627-801b-4baf-9f6d-430720b2e246"
      },
      "execution_count": 50,
      "outputs": [
        {
          "output_type": "stream",
          "name": "stdout",
          "text": [
            "Hello Shreya\n",
            "You are 21 years old\n",
            "And you come from Bangalore\n"
          ]
        }
      ]
    },
    {
      "cell_type": "markdown",
      "source": [
        "**3. What is the purpose of the return statement in a function? Can a function have multiple return\n",
        "statements? Explain with an example.**\n",
        "\n",
        "The purpose of the return statement in a function is to specify the value or values that the function should output or \"return\" after performing its operations. It allows the function to send data back to the caller, which can then be stored in a variable, used in further computations, or displayed to the user.\n",
        "\n",
        "A function can indeed have multiple return statements. When a return statement is encountered in a function, the execution of the function immediately stops, and the specified value is returned to the caller. Having multiple return statements can be useful when different conditions in the function may lead to different return values.\n",
        "\n",
        "The function has multiple return statements depending on the condition being evaluated. The appropriate return statement is executed based on the value of the number, and the corresponding string is returned.\n",
        "\n",
        "By having multiple return statements, the function provides different outputs based on different conditions, enhancing its flexibility and allowing it to handle a range of scenarios."
      ],
      "metadata": {
        "id": "ckPjwWK4CJC0"
      }
    },
    {
      "cell_type": "code",
      "source": [
        "# Example of multiple return statements:\n",
        "odd_num = int(input('Enter a positive number: '))\n",
        "\n",
        "def odd(odd_num):\n",
        "    if odd_num <= 0:\n",
        "        return('Please, enter a positive number')\n",
        "    if odd_num%2 != 0:\n",
        "        return('Odd number')\n",
        "    if odd_num%2 == 0:\n",
        "        return('Not Odd number')\n",
        "\n",
        "odd(odd_num)\n"
      ],
      "metadata": {
        "colab": {
          "base_uri": "https://localhost:8080/",
          "height": 53
        },
        "id": "-XyPRnHkLfI5",
        "outputId": "e8caaf82-ceea-4597-9202-1faee6609176"
      },
      "execution_count": 53,
      "outputs": [
        {
          "name": "stdout",
          "output_type": "stream",
          "text": [
            "Enter a positive number: -4\n"
          ]
        },
        {
          "output_type": "execute_result",
          "data": {
            "text/plain": [
              "'Please, enter a positive number'"
            ],
            "application/vnd.google.colaboratory.intrinsic+json": {
              "type": "string"
            }
          },
          "metadata": {},
          "execution_count": 53
        }
      ]
    },
    {
      "cell_type": "markdown",
      "source": [
        "**4. What are lambda functions in Python? How are they different from regular functions? Provide an\n",
        "example where a lambda function can be useful.**\n",
        "\n",
        "Lambda functions, also known as anonymous functions, are small, single-expression functions in Python that are defined without a name. They are created using the lambda keyword and are typically used for simple and concise operations. Lambda functions are different from regular functions in terms of their syntax and usage.\n",
        "\n",
        "\n",
        "**lambda arguments: expression**\n",
        "\n",
        "\n",
        "Key differences between lambda functions and regular functions:\n",
        "* Anonymous: Lambda functions do not require a name like regular functions. They are created and used on the fly without assigning them to a variable.\n",
        "\n",
        "* Single Expression: Lambda functions are limited to a single expression, unlike regular functions that can consist of multiple statements and have a defined block of code.\n",
        "\n",
        "* Concise Syntax: Lambda functions provide a more concise syntax for defining small functions. They are often used in situations where a small function is needed for a specific operation and defining a regular function would be excessive."
      ],
      "metadata": {
        "id": "nhAAikYnO7T7"
      }
    },
    {
      "cell_type": "code",
      "source": [
        "# Regular function:\n",
        "def sum(x, y):\n",
        "    return x + y\n",
        "out_put = (sum(3, 7))\n",
        "out_put"
      ],
      "metadata": {
        "colab": {
          "base_uri": "https://localhost:8080/"
        },
        "id": "lgHqj64qPmqr",
        "outputId": "d06f486e-fd28-4717-e20e-308960127bbf"
      },
      "execution_count": 58,
      "outputs": [
        {
          "output_type": "execute_result",
          "data": {
            "text/plain": [
              "10"
            ]
          },
          "metadata": {},
          "execution_count": 58
        }
      ]
    },
    {
      "cell_type": "code",
      "source": [
        "# Lambda function:\n",
        "sum = lambda x,y: x + y\n",
        "sum(2,3)"
      ],
      "metadata": {
        "colab": {
          "base_uri": "https://localhost:8080/"
        },
        "id": "A2Qwyq6MP3Wq",
        "outputId": "e4cac620-4b19-49e4-923e-774546f4887c"
      },
      "execution_count": 59,
      "outputs": [
        {
          "output_type": "execute_result",
          "data": {
            "text/plain": [
              "5"
            ]
          },
          "metadata": {},
          "execution_count": 59
        }
      ]
    },
    {
      "cell_type": "markdown",
      "source": [
        "**5. How does the concept of \"scope\" apply to functions in Python? Explain the difference between local\n",
        "scope and global scope.**\n",
        "\n",
        "In Python, the concept of \"scope\" refers to the region or context in which variables and names are defined and accessible. Scopes determine the visibility and lifetime of variables within a program. When it comes to functions in Python, there are two main types of scopes: local scope and global scope.\n",
        "\n",
        "* **Local Scope:**\n",
        "Local scope refers to the scope within a function. Variables defined inside a function are considered local to that function and can only be accessed within that function. These variables are known as local variables. They are created when the function is called and cease to exist once the function finishes executing.\n",
        "* **Global Scope:**\n",
        "Global scope refers to the outermost scope in a program. Variables defined outside of any function or at the top level of a module belong to the global scope. These variables are called global variables, and they can be accessed from any part of the program, including inside functions.\n",
        "\n",
        "Key differences between local scope and global scope:\n",
        "\n",
        "* Accessibility: Local variables can only be accessed within the function that defines them, while global variables are accessible throughout the entire program.\n",
        "\n",
        "* Lifetime: Local variables have a limited lifetime that extends only for the duration of the function's execution. Global variables, on the other hand, exist as long as the program is running.\n",
        "\n",
        "* Overlapping Names: If a local variable has the same name as a global variable, the local variable takes precedence within the local scope. The local variable shadows the global variable with the same name.\n",
        "\n",
        "* Modifiability: Global variables can be modified within functions using the global keyword, but local variables cannot be directly modified outside their scope."
      ],
      "metadata": {
        "id": "CMeOaTePRPiW"
      }
    },
    {
      "cell_type": "code",
      "source": [
        "# Local Scope example:\n",
        "def a_func():\n",
        "\n",
        "    a = 5 # Local var\n",
        "\n",
        "    print(a)\n",
        "a_func()"
      ],
      "metadata": {
        "colab": {
          "base_uri": "https://localhost:8080/"
        },
        "id": "csJnesvySB1A",
        "outputId": "9d93991d-3dcf-4591-a412-c7c58b054eb3"
      },
      "execution_count": 60,
      "outputs": [
        {
          "output_type": "stream",
          "name": "stdout",
          "text": [
            "5\n"
          ]
        }
      ]
    },
    {
      "cell_type": "code",
      "source": [
        "# Global Scope example:\n",
        "\n",
        "a = 10 # Global var\n",
        "\n",
        "def a_gl_func():\n",
        "    print(a)\n",
        "a_gl_func()"
      ],
      "metadata": {
        "colab": {
          "base_uri": "https://localhost:8080/"
        },
        "id": "vpS4dvsZScsf",
        "outputId": "d5f5b184-cf71-4b48-c2d1-0bd494ce3e20"
      },
      "execution_count": 62,
      "outputs": [
        {
          "output_type": "stream",
          "name": "stdout",
          "text": [
            "10\n"
          ]
        }
      ]
    },
    {
      "cell_type": "markdown",
      "source": [
        "**6. How can you use the \"return\" statement in a Python function to return multiple values?**\n",
        "\n",
        "In Python, you can use the return statement in a function to return multiple values by returning them as a tuple, list, or any other iterable data structure. This allows you to package multiple values together and retrieve them as a group when the function is called.\n",
        "\n",
        "By returning multiple values, you can efficiently retrieve and use various computed values from a function without the need for separate functions or global variables.\n",
        "\n",
        "Here's an example that demonstrates how to return multiple values from a function:"
      ],
      "metadata": {
        "id": "ePa2tcZ_UHss"
      }
    },
    {
      "cell_type": "code",
      "source": [
        "def stat_cal(a, b):\n",
        "    total = (a+b)\n",
        "    dif   = (a-b)\n",
        "    ave  = total/2\n",
        "    pot = (a**b)\n",
        "    return total, dif, ave, pot\n",
        "out_put = stat_cal(3, 4)\n",
        "print(out_put)\n",
        "print(out_put[0])\n",
        "print(out_put[1])\n",
        "print(out_put[2])\n",
        "print(out_put[3])"
      ],
      "metadata": {
        "colab": {
          "base_uri": "https://localhost:8080/"
        },
        "id": "DFvliOJdULfa",
        "outputId": "4027cf1f-b106-4890-9c78-7c7ff9691093"
      },
      "execution_count": 76,
      "outputs": [
        {
          "output_type": "stream",
          "name": "stdout",
          "text": [
            "(7, -1, 3.5, 81)\n",
            "7\n",
            "-1\n",
            "3.5\n",
            "81\n"
          ]
        }
      ]
    },
    {
      "cell_type": "markdown",
      "source": [
        "**7. What is the difference between the \"pass by value\" and \"pass by reference\" concepts when it\n",
        "comes to function arguments in Python?**\n",
        "\n",
        "In Python, the concepts of \"pass by value\" and \"pass by reference\" refer to how function arguments are handled when passed to a function. However, it's important to note that Python uses a different mechanism altogether, which is often referred to as \"pass by object reference."
      ],
      "metadata": {
        "id": "0wZpzig4YETq"
      }
    },
    {
      "cell_type": "code",
      "source": [
        "# Here's an example that demonstrates how the behavior of \"pass by value\" can be simulated in Python using an immutable object:\n",
        "\n",
        "def increment(num):\n",
        "    num += 1\n",
        "    return num\n",
        "\n",
        "value = 10\n",
        "new_value = increment(value)\n",
        "\n",
        "print(value)      # Output: 10\n",
        "print(new_value)  # Output: 11"
      ],
      "metadata": {
        "colab": {
          "base_uri": "https://localhost:8080/"
        },
        "id": "YayhC1V9WGdL",
        "outputId": "2bcd9384-e082-42f5-f662-3447ca71a248"
      },
      "execution_count": 77,
      "outputs": [
        {
          "output_type": "stream",
          "name": "stdout",
          "text": [
            "10\n",
            "11\n"
          ]
        }
      ]
    },
    {
      "cell_type": "code",
      "source": [
        "# Here's an example that demonstrates the behavior of \"pass by object reference\" in Python:\n",
        "\n",
        "def modify_list(lst):\n",
        "    lst.append(4)\n",
        "    lst[0] = \"Modified\"\n",
        "\n",
        "my_list = [1, 2, 3]\n",
        "modify_list(my_list)\n",
        "\n",
        "print(my_list)  # Output: [\"Modified\", 2, 3, 4]"
      ],
      "metadata": {
        "colab": {
          "base_uri": "https://localhost:8080/"
        },
        "id": "2GygMzSBaq0V",
        "outputId": "e247b219-2718-4346-a1ed-02764dcbb279"
      },
      "execution_count": 78,
      "outputs": [
        {
          "output_type": "stream",
          "name": "stdout",
          "text": [
            "['Modified', 2, 3, 4]\n"
          ]
        }
      ]
    },
    {
      "cell_type": "markdown",
      "source": [
        "**8. Create a function that can intake integer or decimal value and do following operations:**\n",
        "\n",
        "a. Logarithmic function (log x)\n",
        "\n",
        "b. Exponential function (exp(x))\n",
        "\n",
        "c. Power function with base 2 (2x)\n",
        "\n",
        "d. Square root"
      ],
      "metadata": {
        "id": "zjt0GELdb1Pg"
      }
    },
    {
      "cell_type": "code",
      "source": [
        "import math\n",
        "num = float(input('Enter a number: '))\n",
        "def fun_op(num):\n",
        "    if num > 0:\n",
        "        log = math.log(10, num)\n",
        "        exp = math.exp(num)\n",
        "        pow = math.pow(2,num)\n",
        "        sqr = math.sqrt(num)\n",
        "        #return log, exp, pow, sqr\n",
        "        print(f'The log of {num} is: {log}')\n",
        "        print(f'The exponential of {num} is: {exp}')\n",
        "        print(f'The power of {num} is: {pow}')\n",
        "        print(f'The square root of {num} is: {sqr}')\n",
        "    else:\n",
        "        print('Enter a positive > 0 value')\n",
        "\n",
        "fun_op(num)\n"
      ],
      "metadata": {
        "colab": {
          "base_uri": "https://localhost:8080/"
        },
        "id": "dD2MRdSHcJmW",
        "outputId": "4db6f689-3678-489f-c472-0965b63582b8"
      },
      "execution_count": 101,
      "outputs": [
        {
          "output_type": "stream",
          "name": "stdout",
          "text": [
            "Enter a number: 3.5\n",
            "The log of 3.5 is: 1.838005393597775\n",
            "The exponential of 3.5 is: 33.11545195869231\n",
            "The power of 3.5 is: 11.313708498984761\n",
            "The square root of 3.5 is: 1.8708286933869707\n"
          ]
        }
      ]
    },
    {
      "cell_type": "markdown",
      "source": [
        "**9. Create a function that takes a full name as an argument and returns first name and last name.**"
      ],
      "metadata": {
        "id": "04RuHyY3hhMY"
      }
    },
    {
      "cell_type": "code",
      "source": [
        "names = input('Enter your full name: ')\n",
        "def first_last_name(names):\n",
        "    name = names.split()\n",
        "    f_name = name[0]\n",
        "    l_name = name[1]\n",
        "    return f_name, l_name\n",
        "first, last = first_last_name(names)\n",
        "print('Your fisrst name is:', first)\n",
        "print('Your last name is:', last)"
      ],
      "metadata": {
        "colab": {
          "base_uri": "https://localhost:8080/"
        },
        "id": "NZoNZd01ekjn",
        "outputId": "72223a3f-5001-42f5-9e7f-abad63463598"
      },
      "execution_count": 106,
      "outputs": [
        {
          "output_type": "stream",
          "name": "stdout",
          "text": [
            "Enter your full name: Luis_Germán López_Valdez\n",
            "Your fisrst name is: Luis_Germán\n",
            "Your last name is: López_Valdez\n"
          ]
        }
      ]
    }
  ]
}