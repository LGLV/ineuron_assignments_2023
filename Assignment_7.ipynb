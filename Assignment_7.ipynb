{
  "nbformat": 4,
  "nbformat_minor": 0,
  "metadata": {
    "colab": {
      "provenance": [],
      "authorship_tag": "ABX9TyMNqTbIxxRXR9d8LwADqAW0",
      "include_colab_link": true
    },
    "kernelspec": {
      "name": "python3",
      "display_name": "Python 3"
    },
    "language_info": {
      "name": "python"
    }
  },
  "cells": [
    {
      "cell_type": "markdown",
      "metadata": {
        "id": "view-in-github",
        "colab_type": "text"
      },
      "source": [
        "<a href=\"https://colab.research.google.com/github/LGLV/ineuron_assignments_2023/blob/main/Assignment_7.ipynb\" target=\"_parent\"><img src=\"https://colab.research.google.com/assets/colab-badge.svg\" alt=\"Open In Colab\"/></a>"
      ]
    },
    {
      "cell_type": "markdown",
      "source": [
        "**1. Create two int type variables, apply addition, subtraction, division and multiplications\n",
        "and store the results in variables. Then print the data in the following format by calling the\n",
        "variables:**\n",
        "\n",
        "First variable is __ & second variable is __.\n",
        "\n",
        "Addition: __ + __ = __\n",
        "\n",
        "Subtraction: __ - __ = __\n",
        "\n",
        "Multiplication: __ * __ = __\n",
        "\n",
        "Division: __ / __ = __"
      ],
      "metadata": {
        "id": "hRNKxiUCBS1y"
      }
    },
    {
      "cell_type": "code",
      "execution_count": null,
      "metadata": {
        "colab": {
          "base_uri": "https://localhost:8080/"
        },
        "id": "oQkrxrtjAO4m",
        "outputId": "f0287dfc-847f-4b3d-b3a1-dee36217b44b"
      },
      "outputs": [
        {
          "output_type": "stream",
          "name": "stdout",
          "text": [
            "Addition: 5 + 5 = 10\n",
            "Subtraction: 5 - 5 = 0\n",
            "Multiplication: 5*5 = 25\n",
            "Division: 5/5 = 1.0\n"
          ]
        }
      ],
      "source": [
        "a = 5\n",
        "b = 5\n",
        "\n",
        "add = a + b\n",
        "subs = a - b\n",
        "mult = a*b\n",
        "div = a/b\n",
        "\n",
        "print(f'Addition: {a} + {b} = {add}')\n",
        "print(f'Subtraction: {a} - {b} = {subs}')\n",
        "print(f'Multiplication: {a}*{b} = {mult}')\n",
        "print(f'Division: {a}/{b} = {div}')"
      ]
    },
    {
      "cell_type": "markdown",
      "source": [
        "**2. What is the difference between the following operators:**\n",
        "\n",
        "(i) ‘/’ & ‘//’\n",
        "\n",
        "(ii) ‘**’ & ‘^’\n",
        "\n",
        "* Normal division (/) returns a fractional number, whereas \n",
        "* floor division (//) truncates the decimal part and returns the quotient.\n",
        "********************************************************************\n",
        "* For numeric data types, double-asterisk (**) is defined as an Exponentiation Operator:\n",
        "* The (^) operator compares each bit and set it to 1 if only one is 1, otherwise (if both are 1 or both are 0) it is set to 0"
      ],
      "metadata": {
        "id": "8LIW0iccC_RJ"
      }
    },
    {
      "cell_type": "code",
      "source": [
        "c = 3\n",
        "d = 5\n",
        "print(f'The normal division of \"c\" and \"d\" is: {c/d}')\n",
        "print(f'The foor division of \"c\" and \"d\" is: {c//d}')\n",
        "print(f'The exponetial operation of \"c\" and \"d\" is: {c**d}')\n",
        "print(f'The ^ operator sets each bit of \"c\" and \"d\" and is: {c^d}')"
      ],
      "metadata": {
        "colab": {
          "base_uri": "https://localhost:8080/"
        },
        "id": "XJyuhrkoEAaH",
        "outputId": "0b4cecc2-c356-4520-cbac-21de68c37167"
      },
      "execution_count": null,
      "outputs": [
        {
          "output_type": "stream",
          "name": "stdout",
          "text": [
            "The normal division of \"c\" and \"d\" is: 0.6\n",
            "The foor division of \"c\" and \"d\" is: 0\n",
            "The exponetial operation of \"c\" and \"d\" is: 243\n",
            "The ^ operator sets each bit of \"c\" and \"d\" and is: 6\n"
          ]
        }
      ]
    },
    {
      "cell_type": "markdown",
      "source": [
        "**3. List the logical operators.**\t\n",
        "* **and**:  \tReturns True if both statements are true \tx < 5 and  x < 10 \t\n",
        "* **or**: \tReturns True if one of the statements is true \tx < 5 or x < 4 \t\n",
        "* **not**: \tReverse the result, returns False if the result is true \tnot(x < 5 and x < 10)"
      ],
      "metadata": {
        "id": "w92nYvhJJyi6"
      }
    },
    {
      "cell_type": "markdown",
      "source": [
        "**4. Explain right shift operator and left shift operator with examples.**\n",
        "\n",
        "* (>>)\tBitwise right shift\t\n",
        "\n",
        "The left operand’s value is moved toward right by the number of bits \n",
        "\n",
        "specified by the right operand.\n",
        "\tx>>\n",
        "* (<<)\tBitwise left shift\t\n",
        "\n",
        "The left operand’s value is moved toward left by the number of bits \n",
        "\n",
        "specified by the right operand.\n",
        "\tx<<"
      ],
      "metadata": {
        "id": "l5huOQxdKi8K"
      }
    },
    {
      "cell_type": "code",
      "source": [
        "a = 10\n",
        "b = -10\n",
        " \n",
        "# print bitwise right shift operator\n",
        "print(\"a >> 1 =\", a >> 1)\n",
        "print(\"b >> 1 =\", b >> 1) \n"
      ],
      "metadata": {
        "colab": {
          "base_uri": "https://localhost:8080/"
        },
        "id": "60GsnTbBEEsI",
        "outputId": "995f6467-3bf3-42a0-c91c-7750bb7db1b8"
      },
      "execution_count": null,
      "outputs": [
        {
          "output_type": "stream",
          "name": "stdout",
          "text": [
            "a >> 1 = 5\n",
            "b >> 1 = -5\n"
          ]
        }
      ]
    },
    {
      "cell_type": "code",
      "source": [
        "a = 5\n",
        "b = -10\n",
        " \n",
        "# print bitwise left shift operator\n",
        "print(\"a << 1 =\", a << 1)\n",
        "print(\"b << 1 =\", b << 1)"
      ],
      "metadata": {
        "colab": {
          "base_uri": "https://localhost:8080/"
        },
        "id": "IIB-8YJQNYN_",
        "outputId": "7db60e07-5c95-4608-ac97-ad159e370082"
      },
      "execution_count": null,
      "outputs": [
        {
          "output_type": "stream",
          "name": "stdout",
          "text": [
            "a << 1 = 10\n",
            "b << 1 = -20\n"
          ]
        }
      ]
    },
    {
      "cell_type": "markdown",
      "source": [
        "**5. Create a list containing int type data of length 15. Then write a code to check if 10 is\n",
        "present in the list or not.**"
      ],
      "metadata": {
        "id": "bLZUokJzNmp2"
      }
    },
    {
      "cell_type": "code",
      "source": [
        "l = [a for a in range(15)]\n",
        "l"
      ],
      "metadata": {
        "colab": {
          "base_uri": "https://localhost:8080/"
        },
        "id": "-OIHIAmhNtbJ",
        "outputId": "adf4844f-c560-4d7c-ed13-8e088be861e4"
      },
      "execution_count": null,
      "outputs": [
        {
          "output_type": "execute_result",
          "data": {
            "text/plain": [
              "[0, 1, 2, 3, 4, 5, 6, 7, 8, 9, 10, 11, 12, 13, 14]"
            ]
          },
          "metadata": {},
          "execution_count": 33
        }
      ]
    },
    {
      "cell_type": "code",
      "source": [
        "wonder_num = 10\n",
        "\n",
        "for i in l:\n",
        "    if i == wonder_num:\n",
        "        print(f'Yes here is the {i} you were looking for')\n",
        "    else:\n",
        "        print(f'No {i} is not in the list')\n",
        "\n"
      ],
      "metadata": {
        "colab": {
          "base_uri": "https://localhost:8080/"
        },
        "id": "9PnodmHKOBlk",
        "outputId": "f0d19644-14fd-46be-8c15-4a8f08051949"
      },
      "execution_count": null,
      "outputs": [
        {
          "output_type": "stream",
          "name": "stdout",
          "text": [
            "No 0 is not in the list\n",
            "No 1 is not in the list\n",
            "No 2 is not in the list\n",
            "No 3 is not in the list\n",
            "No 4 is not in the list\n",
            "No 5 is not in the list\n",
            "No 6 is not in the list\n",
            "No 7 is not in the list\n",
            "No 8 is not in the list\n",
            "No 9 is not in the list\n",
            "Yes here is the 10 you were looking for\n",
            "No 11 is not in the list\n",
            "No 12 is not in the list\n",
            "No 13 is not in the list\n",
            "No 14 is not in the list\n"
          ]
        }
      ]
    }
  ]
}